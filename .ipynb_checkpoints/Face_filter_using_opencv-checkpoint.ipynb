{
 "cells": [
  {
   "cell_type": "markdown",
   "metadata": {},
   "source": [
    "## Face filter"
   ]
  },
  {
   "cell_type": "code",
   "execution_count": 2,
   "metadata": {},
   "outputs": [],
   "source": [
    "# Importing libraries\n",
    "\n",
    "import cv2\n",
    "import numpy as np"
   ]
  },
  {
   "cell_type": "code",
   "execution_count": 9,
   "metadata": {},
   "outputs": [],
   "source": [
    "# Creating objects to detect the face\n",
    "face_cascade = cv2.CascadeClassifier(cv2.data.haarcascades +'haarcascade_frontalface_default.xml')\n",
    "eye_cascade = cv2.CascadeClassifier(cv2.data.haarcascades +'haarcascade_eye.xml')"
   ]
  },
  {
   "cell_type": "code",
   "execution_count": 121,
   "metadata": {},
   "outputs": [],
   "source": [
    "# reading the filter image\n",
    "neon = cv2.imread('Neon_mask.png')"
   ]
  },
  {
   "cell_type": "code",
   "execution_count": 122,
   "metadata": {},
   "outputs": [],
   "source": [
    "# Getting the shape of the filter image\n",
    "original_neon_h, original_neon_w, neon_channels = neon.shape "
   ]
  },
  {
   "cell_type": "code",
   "execution_count": 115,
   "metadata": {},
   "outputs": [],
   "source": [
    "# Converting to grayscale\n",
    "neon_gray  = cv2.cvtColor(neon, cv2.COLOR_BGR2GRAY)"
   ]
  },
  {
   "cell_type": "markdown",
   "metadata": {},
   "source": [
    "###### We need to create a mask because we only need to use the filter image and not the background details of image, thus mask and inverse mask helps us to remove that. he numerical values within the function cv2.threshold() varies from filter to filter."
   ]
  },
  {
   "cell_type": "code",
   "execution_count": 116,
   "metadata": {},
   "outputs": [],
   "source": [
    "# create mask and inverse mask of filter image\n",
    "\n",
    "ret, original_mask = cv2.threshold(neon_gray, 145, 255, cv2.THRESH_BINARY_INV)\n",
    "original_mask_inv = cv2.bitwise_not(original_mask)"
   ]
  },
  {
   "cell_type": "code",
   "execution_count": 117,
   "metadata": {},
   "outputs": [
    {
     "data": {
      "text/plain": [
       "<matplotlib.image.AxesImage at 0x2100e414348>"
      ]
     },
     "execution_count": 117,
     "metadata": {},
     "output_type": "execute_result"
    },
    {
     "data": {
      "image/png": "[encoded data removed]",
      "text/plain": [
       "<Figure size 432x288 with 1 Axes>"
      ]
     },
     "metadata": {
      "needs_background": "light"
     },
     "output_type": "display_data"
    }
   ],
   "source": [
    "# A view of how the image looks like after implementing mask\n",
    "import matplotlib.pyplot as plt\n",
    "plt.imshow(original_mask)"
   ]
  },
  {
   "cell_type": "markdown",
   "metadata": {},
   "source": [
    "##### Capturing a video, detecting a face and then overlaying the filter on top of it."
   ]
  },
  {
   "cell_type": "code",
   "execution_count": 123,
   "metadata": {},
   "outputs": [],
   "source": [
    "# read video\n",
    "cap = cv2.VideoCapture(0)\n",
    "ret, img = cap.read()\n",
    "img_h, img_w = img.shape[:2]\n",
    "\n",
    "while True:\n",
    "    \n",
    "    #read each frame of the video and convert it to gray\n",
    "    ret, img = cap.read()\n",
    "    gray = cv2.cvtColor(img, cv2.COLOR_BGR2GRAY)\n",
    "    \n",
    "    # Find faces in image using classifier\n",
    "    faces = face_cascade.detectMultiScale(gray, 1.3, 5)\n",
    "    \n",
    "    # For every face found \n",
    "    for (x,y,w,h) in faces:\n",
    "        \n",
    "        # Coordinates of face region\n",
    "        face_w = w\n",
    "        face_h = h\n",
    "        face_x1 = x\n",
    "        face_x2 = face_x1+face_w\n",
    "        face_y1 = y\n",
    "        face_y2 = face_y1 + face_h\n",
    "        \n",
    "        # neon_filter size in relation to face by scaling\n",
    "        neon_width = int(1.5* face_w)\n",
    "        neon_height = int(neon_width * original_neon_h / original_neon_w )\n",
    "        \n",
    "        #setting location of coordinates of witch\n",
    "        neon_x1 = face_x2 - int(face_w/2) - int(neon_width/2)\n",
    "        neon_x2 = neon_x1 + neon_width\n",
    "        neon_y1 = face_y2 - int(face_h/2) - int(neon_height/2) #face_y1 - int(face_h*1.25)\n",
    "        neon_y2 = neon_y1 + neon_height \n",
    "\n",
    "        #check to see if out of frame\n",
    "        if neon_x1 < 0:\n",
    "            neon_x1 = 0\n",
    "        if neon_y1 < 0:\n",
    "            neon_y1 = 0\n",
    "        if neon_x2 > img_w:\n",
    "            neon_x2 = img_w\n",
    "        if neon_y2 > img_h:\n",
    "            neon_y2 = img_h\n",
    "\n",
    "        #Account for any out of frame changes\n",
    "        neon_width = neon_x2 - neon_x1\n",
    "        neon_height = neon_y2 - neon_y1\n",
    "\n",
    "        #resize witch to fit on face\n",
    "        neon = cv2.resize(neon, (neon_width,neon_height), interpolation = cv2.INTER_AREA)\n",
    "        mask = cv2.resize(original_mask, (neon_width,neon_height), interpolation = cv2.INTER_AREA)\n",
    "        mask_inv = cv2.resize(original_mask_inv, (neon_width,neon_height), interpolation = cv2.INTER_AREA)\n",
    "\n",
    "        #take ROI for witch from background that is equal to size of neon image\n",
    "        roi = img[neon_y1:neon_y2, neon_x1:neon_x2]\n",
    "\n",
    "        #original image in background (bg) where witch is not\n",
    "        roi_bg = cv2.bitwise_and(roi,roi,mask = mask)\n",
    "        roi_fg = cv2.bitwise_and(neon,neon,mask=mask_inv)\n",
    "        dst = cv2.add(roi_bg,roi_fg)\n",
    "\n",
    "        #put back in original image\n",
    "        img[neon_y1:neon_y2, neon_x1:neon_x2] = dst\n",
    "\n",
    "\n",
    "        break\n",
    "    #display image\n",
    "    cv2.imshow('img',img) \n",
    "\n",
    "    #if user pressed 'q' break\n",
    "    if cv2.waitKey(1) == ord('q'): # \n",
    "        break;\n",
    "\n",
    "cap.release() #turn off camera \n",
    "cv2.destroyAllWindows() #close all windows"
   ]
  },
  {
   "cell_type": "code",
   "execution_count": null,
   "metadata": {},
   "outputs": [],
   "source": []
  },
  {
   "cell_type": "code",
   "execution_count": null,
   "metadata": {},
   "outputs": [],
   "source": []
  },
  {
   "cell_type": "code",
   "execution_count": null,
   "metadata": {},
   "outputs": [],
   "source": []
  },
  {
   "cell_type": "code",
   "execution_count": null,
   "metadata": {},
   "outputs": [],
   "source": []
  }
 ],
 "metadata": {
  "kernelspec": {
   "display_name": "Python 3",
   "language": "python",
   "name": "python3"
  },
  "language_info": {
   "codemirror_mode": {
    "name": "ipython",
    "version": 3
   },
   "file_extension": ".py",
   "mimetype": "text/x-python",
   "name": "python",
   "nbconvert_exporter": "python",
   "pygments_lexer": "ipython3",
   "version": "3.7.7"
  }
 },
 "nbformat": 4,
 "nbformat_minor": 4
}
